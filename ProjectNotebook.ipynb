{
 "cells": [
  {
   "cell_type": "markdown",
   "metadata": {},
   "source": [
    "# Project notebook\n",
    "\n",
    "This is an empty notebook to develop your project.  \n",
    "\n",
    "**Proposals for final projects are due no later than 3/29** (you may submit them earlier if you'd like to get approval and get started earlier).  Please come talk to me if you would like any guidance on putting a proposal together.\n",
    "\n",
    "**By 4/9** submit a draft of your current progress (via git).\n",
    "\n",
    "**Final projects are due on 4/23** (via git).  \n",
    "\n",
    "The final projects should end up looking like one of the homeworks, however you are going to be (i) designing the homework along with doing it and (ii) you should also have a small amount of motivation as to why you have designed the study as is (can be a short paragraph or two as you go, or peppered through out such as, \"We want to investigate x; to do so we start with y... \\[later\\] having seen how A sampling works, we now want to investigate whether B sampling can improve our convergence rate...\"\n",
    "\n",
    "The projects may center around a sampling technique, an application, or some theory.  You are free to propose/create your own problem.  Here are some examples of potential projects:\n",
    "\n",
    "* Studying and reproducing any of the results/implementations from a chapter of Part II of the Handbook of Markov Chain Monte Carlo (does not have to be an entire chapter).  Keep in mind that some of these chapters require data and you will (likely) need to generate synthetic data to test the methods on.    \n",
    "\n",
    "* See the folder in this directory for some other possible book chapters to follow/reconstruct.\n",
    "\n",
    "* Take a deeper look into some of the methods we touched on but didn't deeply dive into, such as slice sampling, or sequential MCMC; or propose an investigatation of a topic we haven't covered in the homework, such as the NUTS algorithm, quasi-Monte Carlo, ..."
   ]
  },
  {
   "cell_type": "code",
   "execution_count": null,
   "metadata": {},
   "outputs": [],
   "source": []
  }
 ],
 "metadata": {
  "kernelspec": {
   "display_name": "Python 3",
   "language": "python",
   "name": "python3"
  },
  "language_info": {
   "codemirror_mode": {
    "name": "ipython",
    "version": 3
   },
   "file_extension": ".py",
   "mimetype": "text/x-python",
   "name": "python",
   "nbconvert_exporter": "python",
   "pygments_lexer": "ipython3",
   "version": "3.7.3"
  }
 },
 "nbformat": 4,
 "nbformat_minor": 2
}
